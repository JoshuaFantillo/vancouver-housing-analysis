{
 "cells": [
  {
   "cell_type": "code",
   "execution_count": 19,
   "metadata": {},
   "outputs": [
    {
     "name": "stdout",
     "output_type": "stream",
     "text": [
      "              TypeOfWork  IssueYear PostalCode                Cordinates\n",
      "2           New Building       2019    V5V 2Y8  49.2416496, -123.0729656\n",
      "3  Addition / Alteration       2019    V6B 2L3   49.280142, -123.1095515\n",
      "4  Addition / Alteration       2019        N/A  49.2634463, -123.1867632\n",
      "5           New Building       2019    V5X 2Y4  49.2158549, -123.1154785\n",
      "6           New Building       2019    V5R 3J7  49.2360209, -123.0558552\n"
     ]
    },
    {
     "name": "stderr",
     "output_type": "stream",
     "text": [
      "/tmp/ipykernel_39380/2828145549.py:24: SettingWithCopyWarning: \n",
      "A value is trying to be set on a copy of a slice from a DataFrame.\n",
      "Try using .loc[row_indexer,col_indexer] = value instead\n",
      "\n",
      "See the caveats in the documentation: https://pandas.pydata.org/pandas-docs/stable/user_guide/indexing.html#returning-a-view-versus-a-copy\n",
      "  filtered_df['Cordinates'] = filtered_df['geo_point_2d']\n"
     ]
    }
   ],
   "source": [
    "import pandas as pd\n",
    "import re\n",
    "\n",
    "df = pd.read_csv('issued-building-permits.csv', on_bad_lines='skip', sep=';', engine='python')\n",
    "\n",
    "def extract_postal_code(address):\n",
    "    # Regular expression for the pattern of a postal code\n",
    "    pattern = r'.*\\s\\d[A-Z]\\d$'\n",
    "    if re.match(pattern, str(address)):\n",
    "        return address[-7:]  # Return the last 7 characters if pattern matches\n",
    "    else:\n",
    "        return 'N/A'  # Return 'N/A' if pattern does not match\n",
    "\n",
    "df['PostalCode'] = df['Address'].apply(extract_postal_code)\n",
    "\n",
    "\n",
    "df = df.drop(columns=['PermitNumber', 'PermitNumberCreatedDate','PermitElapsedDays', 'ProjectValue','ProjectDescription',\n",
    "                      'PermitCategory', 'Applicant', 'ApplicantAddress','PropertyUse', 'SpecificUseCategory', 'BuildingContractor',\n",
    "                      'BuildingContractorAddress','IssueDate','GeoLocalArea', 'Geom', 'YearMonth', 'Address'])\n",
    "\n",
    "\n",
    "filtered_df = df[~df['TypeOfWork'].isin(['Demolition / Deconstruction', 'Salvage and Abatement', 'Outdoor Uses (No Buildings Proposed)'])]\n",
    "\n",
    "filtered_df['Cordinates'] = filtered_df['geo_point_2d']\n",
    "filtered_df = filtered_df.drop(columns=['geo_point_2d'])\n",
    "filtered_df = filtered_df.dropna(subset=['Cordinates'])\n",
    "filtered_df = filtered_df[filtered_df['Cordinates'] != '']\n",
    "\n",
    "print(filtered_df.head())"
   ]
  },
  {
   "cell_type": "code",
   "execution_count": 20,
   "metadata": {},
   "outputs": [],
   "source": [
    "df.to_csv('building-permits-cleaned.csv', index=False)"
   ]
  },
  {
   "cell_type": "code",
   "execution_count": null,
   "metadata": {},
   "outputs": [],
   "source": []
  }
 ],
 "metadata": {
  "kernelspec": {
   "display_name": "Python 3",
   "language": "python",
   "name": "python3"
  },
  "language_info": {
   "codemirror_mode": {
    "name": "ipython",
    "version": 3
   },
   "file_extension": ".py",
   "mimetype": "text/x-python",
   "name": "python",
   "nbconvert_exporter": "python",
   "pygments_lexer": "ipython3",
   "version": "3.10.12"
  }
 },
 "nbformat": 4,
 "nbformat_minor": 2
}
