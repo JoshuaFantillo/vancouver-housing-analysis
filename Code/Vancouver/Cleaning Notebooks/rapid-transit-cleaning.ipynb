{
 "cells": [
  {
   "cell_type": "code",
   "execution_count": 1,
   "metadata": {},
   "outputs": [
    {
     "name": "stdout",
     "output_type": "stream",
     "text": [
      "                               Coordinates\n",
      "0  49.286075484422376, -123.11173815504947\n",
      "1    49.2657831984991, -123.07896225243121\n",
      "2   49.26634023249435, -123.11519667899394\n",
      "3  49.262773467883484, -123.11478218139136\n",
      "4   49.24912287838039, -123.11533610484715\n"
     ]
    }
   ],
   "source": [
    "import pandas as pd\n",
    "\n",
    "df = pd.read_csv('Uncleaned/rapid-transit-stations.csv', on_bad_lines='skip', sep=';', engine='python')\n",
    "\n",
    "new_df = pd.DataFrame({\n",
    "    'Coordinates': df['geo_point_2d']\n",
    "})\n",
    "\n",
    "print(new_df.head())"
   ]
  },
  {
   "cell_type": "code",
   "execution_count": 2,
   "metadata": {},
   "outputs": [],
   "source": [
    "new_df.to_csv('Cleaned/rapid-transit-cleaned.csv', index=False)"
   ]
  },
  {
   "cell_type": "code",
   "execution_count": null,
   "metadata": {},
   "outputs": [],
   "source": []
  }
 ],
 "metadata": {
  "kernelspec": {
   "display_name": "Python 3",
   "language": "python",
   "name": "python3"
  },
  "language_info": {
   "codemirror_mode": {
    "name": "ipython",
    "version": 3
   },
   "file_extension": ".py",
   "mimetype": "text/x-python",
   "name": "python",
   "nbconvert_exporter": "python",
   "pygments_lexer": "ipython3",
   "version": "3.10.12"
  }
 },
 "nbformat": 4,
 "nbformat_minor": 2
}
