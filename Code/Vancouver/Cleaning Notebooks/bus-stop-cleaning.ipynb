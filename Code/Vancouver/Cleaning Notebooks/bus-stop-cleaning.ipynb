{
 "cells": [
  {
   "cell_type": "code",
   "execution_count": 1,
   "metadata": {},
   "outputs": [
    {
     "name": "stdout",
     "output_type": "stream",
     "text": [
      "    Longitude   Latitude\n",
      "0 -122.891738  49.245232\n",
      "1 -122.886160  49.242188\n",
      "2 -122.879538  49.238593\n",
      "3 -122.870969  49.236830\n",
      "4 -122.867437  49.238202\n"
     ]
    }
   ],
   "source": [
    "import pandas as pd\n",
    "import json\n",
    "\n",
    "with open('Stops.geojson', 'r') as f:\n",
    "    data = json.load(f)\n",
    "\n",
    "# Extract coordinates\n",
    "coordinates = []\n",
    "for feature in data['features']:\n",
    "    coord = feature['geometry']['coordinates']\n",
    "    coordinates.append(coord)\n",
    "\n",
    "df = pd.DataFrame(coordinates, columns=['Longitude', 'Latitude'])\n",
    "\n",
    "print(df.head())\n",
    "\n"
   ]
  },
  {
   "cell_type": "code",
   "execution_count": 2,
   "metadata": {},
   "outputs": [],
   "source": [
    "\n",
    "df.to_csv('bus-stops-cleaned.csv', index=False)"
   ]
  },
  {
   "cell_type": "code",
   "execution_count": null,
   "metadata": {},
   "outputs": [],
   "source": []
  }
 ],
 "metadata": {
  "kernelspec": {
   "display_name": "Python 3",
   "language": "python",
   "name": "python3"
  },
  "language_info": {
   "codemirror_mode": {
    "name": "ipython",
    "version": 3
   },
   "file_extension": ".py",
   "mimetype": "text/x-python",
   "name": "python",
   "nbconvert_exporter": "python",
   "pygments_lexer": "ipython3",
   "version": "3.10.12"
  }
 },
 "nbformat": 4,
 "nbformat_minor": 2
}
