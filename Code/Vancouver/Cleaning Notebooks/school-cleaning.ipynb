{
 "cells": [
  {
   "cell_type": "code",
   "execution_count": 2,
   "metadata": {},
   "outputs": [
    {
     "name": "stdout",
     "output_type": "stream",
     "text": [
      "                               Coordinates         School Type\n",
      "0   49.24843134181949, -123.14226149913934  Independent School\n",
      "1    49.2521383750676, -123.05269627000001       Public School\n",
      "2  49.250581806373596, -123.18024556263893       Public School\n",
      "3  49.283091710067765, -123.12980600999998       Public School\n",
      "4         49.24532077406758, -123.07246012       Public School\n"
     ]
    }
   ],
   "source": [
    "import pandas as pd\n",
    "\n",
    "df = pd.read_csv('Uncleaned/schools.csv', on_bad_lines='skip', sep=';', engine='python')\n",
    "\n",
    "new_df = pd.DataFrame({\n",
    "    'Coordinates': df['geo_point_2d'], 'School Type': df['SCHOOL_CATEGORY']\n",
    "})\n",
    "\n",
    "\n",
    "\n",
    "print(new_df.head())"
   ]
  },
  {
   "cell_type": "code",
   "execution_count": 4,
   "metadata": {},
   "outputs": [],
   "source": [
    "new_df.to_csv('Cleaned/school-cleaned.csv', index=False)"
   ]
  },
  {
   "cell_type": "code",
   "execution_count": null,
   "metadata": {},
   "outputs": [],
   "source": []
  }
 ],
 "metadata": {
  "kernelspec": {
   "display_name": "Python 3",
   "language": "python",
   "name": "python3"
  },
  "language_info": {
   "codemirror_mode": {
    "name": "ipython",
    "version": 3
   },
   "file_extension": ".py",
   "mimetype": "text/x-python",
   "name": "python",
   "nbconvert_exporter": "python",
   "pygments_lexer": "ipython3",
   "version": "3.10.12"
  }
 },
 "nbformat": 4,
 "nbformat_minor": 2
}
