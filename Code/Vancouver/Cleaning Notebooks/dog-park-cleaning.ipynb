{
 "cells": [
  {
   "cell_type": "code",
   "execution_count": 1,
   "metadata": {},
   "outputs": [
    {
     "name": "stdout",
     "output_type": "stream",
     "text": [
      "                              Coordinates\n",
      "0  49.24470507020434, -123.17507131392392\n",
      "1  49.29496162924832, -123.13434601446576\n",
      "2   49.2556804415666, -123.02750074280294\n",
      "3  49.25313116149829, -123.02649510491612\n",
      "4  49.27118798617408, -123.11098369199883\n"
     ]
    }
   ],
   "source": [
    "import pandas as pd\n",
    "\n",
    "df = pd.read_csv('Uncleaned/dog-off-leash-parks.csv', on_bad_lines='skip', sep=';', engine='python')\n",
    "\n",
    "new_df = pd.DataFrame({\n",
    "    'Coordinates': df['geo_point_2d']\n",
    "})\n",
    "\n",
    "print(new_df.head())"
   ]
  },
  {
   "cell_type": "code",
   "execution_count": 2,
   "metadata": {},
   "outputs": [],
   "source": [
    "new_df.to_csv('Cleaned/dog-park-cleaned.csv', index=False)"
   ]
  },
  {
   "cell_type": "code",
   "execution_count": null,
   "metadata": {},
   "outputs": [],
   "source": []
  }
 ],
 "metadata": {
  "kernelspec": {
   "display_name": "Python 3",
   "language": "python",
   "name": "python3"
  },
  "language_info": {
   "codemirror_mode": {
    "name": "ipython",
    "version": 3
   },
   "file_extension": ".py",
   "mimetype": "text/x-python",
   "name": "python",
   "nbconvert_exporter": "python",
   "pygments_lexer": "ipython3",
   "version": "3.10.12"
  }
 },
 "nbformat": 4,
 "nbformat_minor": 2
}
