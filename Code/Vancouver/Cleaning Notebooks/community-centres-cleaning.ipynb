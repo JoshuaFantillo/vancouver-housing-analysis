{
 "cells": [
  {
   "cell_type": "code",
   "execution_count": 21,
   "metadata": {},
   "outputs": [
    {
     "name": "stdout",
     "output_type": "stream",
     "text": [
      "  Community_Centre_Locations\n",
      "0         49.2428, -123.1883\n",
      "1         49.2809, -123.0393\n",
      "2          49.278, -123.1235\n",
      "3         49.2636, -123.0321\n",
      "4         49.2332, -123.1571\n"
     ]
    }
   ],
   "source": [
    "import pandas as pd\n",
    "\n",
    "df = pd.read_csv('community-centres.csv', sep=';', engine='python')\n",
    "\n",
    "community_centre_locations_df = df[['geo_point_2d']].rename(columns={'geo_point_2d': 'Community_Centre_Locations'})\n",
    "\n",
    "print(community_centre_locations_df.head())\n"
   ]
  },
  {
   "cell_type": "code",
   "execution_count": 22,
   "metadata": {},
   "outputs": [],
   "source": [
    "community_centre_locations_df.to_csv('community-centre-cleaned.csv', index=False)"
   ]
  }
 ],
 "metadata": {
  "kernelspec": {
   "display_name": "Python 3",
   "language": "python",
   "name": "python3"
  },
  "language_info": {
   "codemirror_mode": {
    "name": "ipython",
    "version": 3
   },
   "file_extension": ".py",
   "mimetype": "text/x-python",
   "name": "python",
   "nbconvert_exporter": "python",
   "pygments_lexer": "ipython3",
   "version": "3.10.12"
  }
 },
 "nbformat": 4,
 "nbformat_minor": 2
}
