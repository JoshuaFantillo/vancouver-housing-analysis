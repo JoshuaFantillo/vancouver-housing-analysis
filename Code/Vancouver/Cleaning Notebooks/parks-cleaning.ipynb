{
 "cells": [
  {
   "cell_type": "code",
   "execution_count": 1,
   "metadata": {},
   "outputs": [
    {
     "name": "stdout",
     "output_type": "stream",
     "text": [
      "                              Coordinates      Area\n",
      "0  49.23843208561654, -123.12580913081992  4.735930\n",
      "1  49.23374566990904, -123.16348594568844  1.494348\n",
      "2   49.27046708503926, -123.0507625334799  3.049800\n",
      "3   49.25539840032883, -123.0512645230009  4.442015\n",
      "4  49.21024780335246, -123.11951375283157  0.513125\n"
     ]
    }
   ],
   "source": [
    "import pandas as pd\n",
    "\n",
    "df = pd.read_csv('Uncleaned/parks-polygon-representation.csv', on_bad_lines='skip', sep=';', engine='python')\n",
    "\n",
    "new_df = pd.DataFrame({\n",
    "    'Coordinates': df['geo_point_2d'], 'Area': df['AREA_HA']\n",
    "})\n",
    "\n",
    "print(new_df.head())"
   ]
  },
  {
   "cell_type": "code",
   "execution_count": 2,
   "metadata": {},
   "outputs": [],
   "source": [
    "new_df.to_csv('Cleaned/parks-cleaned.csv', index=False)"
   ]
  },
  {
   "cell_type": "code",
   "execution_count": null,
   "metadata": {},
   "outputs": [],
   "source": []
  }
 ],
 "metadata": {
  "kernelspec": {
   "display_name": "Python 3",
   "language": "python",
   "name": "python3"
  },
  "language_info": {
   "codemirror_mode": {
    "name": "ipython",
    "version": 3
   },
   "file_extension": ".py",
   "mimetype": "text/x-python",
   "name": "python",
   "nbconvert_exporter": "python",
   "pygments_lexer": "ipython3",
   "version": "3.10.12"
  }
 },
 "nbformat": 4,
 "nbformat_minor": 2
}
