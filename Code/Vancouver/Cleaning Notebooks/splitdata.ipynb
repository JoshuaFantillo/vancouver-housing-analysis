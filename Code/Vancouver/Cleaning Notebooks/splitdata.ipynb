{
 "cells": [
  {
   "cell_type": "code",
   "execution_count": 13,
   "metadata": {},
   "outputs": [
    {
     "name": "stdout",
     "output_type": "stream",
     "text": [
      "The CSV file has been split into 3 parts.\n"
     ]
    }
   ],
   "source": [
    "import pandas as pd\n",
    "\n",
    "file_path = 'property-tax-report-2020.csv'\n",
    "\n",
    "df = pd.read_csv(file_path, delimiter=';')\n",
    "\n",
    "# Calculate the number of rows for each split, assuming we want 3 parts\n",
    "split_size = len(df) // 4\n",
    "\n",
    "# Split the DataFrame into three parts\n",
    "dfs = [df.iloc[i:i + split_size] for i in range(0, len(df), split_size)]\n",
    "\n",
    "for i, split_df in enumerate(dfs, start=1):\n",
    "    split_file_path = f'property-tax-report-2020-part_{i}.csv'  \n",
    "    split_df.to_csv(split_file_path, index=False, sep=';')  \n",
    "\n",
    "print(\"The CSV file has been split into \" + str(i) +  \" parts.\")\n"
   ]
  },
  {
   "cell_type": "code",
   "execution_count": null,
   "metadata": {},
   "outputs": [],
   "source": []
  }
 ],
 "metadata": {
  "kernelspec": {
   "display_name": "Python 3",
   "language": "python",
   "name": "python3"
  },
  "language_info": {
   "codemirror_mode": {
    "name": "ipython",
    "version": 3
   },
   "file_extension": ".py",
   "mimetype": "text/x-python",
   "name": "python",
   "nbconvert_exporter": "python",
   "pygments_lexer": "ipython3",
   "version": "3.10.12"
  }
 },
 "nbformat": 4,
 "nbformat_minor": 2
}
