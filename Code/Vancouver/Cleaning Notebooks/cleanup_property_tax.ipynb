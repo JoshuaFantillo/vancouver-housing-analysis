{
 "cells": [
  {
   "cell_type": "code",
   "execution_count": 106,
   "metadata": {},
   "outputs": [],
   "source": [
    "import os\n",
    "import pandas as pd\n",
    "\n",
    "file_path = 'property-tax-report-2020-part_5.csv'  "
   ]
  },
  {
   "cell_type": "code",
   "execution_count": 107,
   "metadata": {},
   "outputs": [
    {
     "name": "stdout",
     "output_type": "stream",
     "text": [
      "['PID', 'LEGAL_TYPE', 'FOLIO', 'LAND_COORDINATE', 'ZONING_DISTRICT', 'ZONING_CLASSIFICATION', 'LOT', 'PLAN', 'BLOCK', 'DISTRICT_LOT', 'FROM_CIVIC_NUMBER', 'TO_CIVIC_NUMBER', 'STREET_NAME', 'PROPERTY_POSTAL_CODE', 'NARRATIVE_LEGAL_LINE1', 'NARRATIVE_LEGAL_LINE2', 'NARRATIVE_LEGAL_LINE3', 'NARRATIVE_LEGAL_LINE4', 'NARRATIVE_LEGAL_LINE5', 'CURRENT_LAND_VALUE', 'CURRENT_IMPROVEMENT_VALUE', 'TAX_ASSESSMENT_YEAR', 'PREVIOUS_LAND_VALUE', 'PREVIOUS_IMPROVEMENT_VALUE', 'YEAR_BUILT', 'BIG_IMPROVEMENT_YEAR', 'TAX_LEVY', 'NEIGHBOURHOOD_CODE', 'REPORT_YEAR']\n"
     ]
    }
   ],
   "source": [
    "df = pd.read_csv(file_path, delimiter=';', quotechar='\"', engine='python')\n",
    "\n",
    "print(list(df.columns))"
   ]
  },
  {
   "cell_type": "code",
   "execution_count": 108,
   "metadata": {},
   "outputs": [
    {
     "name": "stdout",
     "output_type": "stream",
     "text": [
      "           PID LEGAL_TYPE         FOLIO  LAND_COORDINATE ZONING_DISTRICT  \\\n",
      "0  011-001-518       LAND  730135370000         73013537            R1-1   \n",
      "1  011-151-781       LAND  683120420000         68312042            RM-3   \n",
      "\n",
      "   ZONING_CLASSIFICATION LOT     PLAN  BLOCK  DISTRICT_LOT  ...  \\\n",
      "0  Residential Inclusive  11  VAP6011    811           526  ...   \n",
      "1            Residential   B  VAP3557    428           526  ...   \n",
      "\n",
      "   CURRENT_LAND_VALUE  CURRENT_IMPROVEMENT_VALUE TAX_ASSESSMENT_YEAR  \\\n",
      "0           3514000.0                   100000.0              2024.0   \n",
      "1          15225000.0                  5405000.0              2024.0   \n",
      "\n",
      "  PREVIOUS_LAND_VALUE PREVIOUS_IMPROVEMENT_VALUE YEAR_BUILT  \\\n",
      "0           3399000.0                   105000.0     1924.0   \n",
      "1          15225000.0                  6767000.0     1971.0   \n",
      "\n",
      "   BIG_IMPROVEMENT_YEAR  TAX_LEVY  NEIGHBOURHOOD_CODE  REPORT_YEAR  \n",
      "0                1970.0       NaN                   8         2024  \n",
      "1                1971.0       NaN                   7         2024  \n",
      "\n",
      "[2 rows x 29 columns]\n"
     ]
    }
   ],
   "source": [
    "columns_to_drop = ['PID', 'LEGAL_TYPE', 'FOLIO', 'LAND_COORDINATE', 'ZONING_DISTRICT', 'ZONING_CLASSIFICATION', \n",
    "                   'LOT', 'PLAN', 'BLOCK', 'DISTRICT_LOT', 'FROM_CIVIC_NUMBER', 'TO_CIVIC_NUMBER', \n",
    "                   'NARRATIVE_LEGAL_LINE1', 'NARRATIVE_LEGAL_LINE2', 'NARRATIVE_LEGAL_LINE3', 'NARRATIVE_LEGAL_LINE4',\n",
    "                    'NARRATIVE_LEGAL_LINE5','PREVIOUS_IMPROVEMENT_VALUE', 'PREVIOUS_LAND_VALUE','NEIGHBOURHOOD_CODE']\n",
    "print(df.head())"
   ]
  },
  {
   "cell_type": "code",
   "execution_count": 109,
   "metadata": {},
   "outputs": [
    {
     "name": "stdout",
     "output_type": "stream",
     "text": [
      "0     3514000.0\n",
      "1    15225000.0\n",
      "Name: CURRENT_LAND_VALUE, dtype: float64\n"
     ]
    }
   ],
   "source": [
    "def is_convertible_to_int(value):\n",
    "    try:\n",
    "        int(value)  \n",
    "        return True\n",
    "    except ValueError:\n",
    "        return False\n",
    "\n",
    "\n",
    "for index, row in df.iterrows():\n",
    "    # Check if 'CURRENT_LAND_VALUE' is not convertible to an int\n",
    "    if not is_convertible_to_int(row['CURRENT_LAND_VALUE']):\n",
    "        # Shift the row to the right by one position from 'CURRENT_LAND_VALUE' onwards\n",
    "        shifted_row = row['CURRENT_LAND_VALUE':].shift(1)\n",
    "        df.loc[index, 'CURRENT_LAND_VALUE':] = shifted_row\n",
    "\n",
    "\n",
    "for index, row in df.iterrows():\n",
    "    # Check if 'CURRENT_LAND_VALUE' is not convertible to an int\n",
    "    if not is_convertible_to_int(row['CURRENT_LAND_VALUE']):\n",
    "        # Shift the row to the right by one position from 'CURRENT_LAND_VALUE' onwards\n",
    "        shifted_row = row['CURRENT_LAND_VALUE':].shift(1)\n",
    "        df.loc[index, 'CURRENT_LAND_VALUE':] = shifted_row\n",
    "\n",
    "\n",
    "for index, row in df.iterrows():\n",
    "    # Check if 'CURRENT_LAND_VALUE' is not convertible to an int\n",
    "    if not is_convertible_to_int(row['CURRENT_LAND_VALUE']):\n",
    "        # Shift the row to the right by one position from 'CURRENT_LAND_VALUE' onwards\n",
    "        shifted_row = row['CURRENT_LAND_VALUE':].shift(1)\n",
    "        df.loc[index, 'CURRENT_LAND_VALUE':] = shifted_row\n",
    "\n",
    "\n",
    "for index, row in df.iterrows():\n",
    "    # Check if 'CURRENT_LAND_VALUE' is not convertible to an int\n",
    "    if not is_convertible_to_int(row['CURRENT_LAND_VALUE']):\n",
    "        # Shift the row to the right by one position from 'CURRENT_LAND_VALUE' onwards\n",
    "        shifted_row = row['CURRENT_LAND_VALUE':].shift(1)\n",
    "        df.loc[index, 'CURRENT_LAND_VALUE':] = shifted_row\n",
    "\n",
    "\n",
    "for index, row in df.iterrows():\n",
    "    # Check if 'CURRENT_LAND_VALUE' is not convertible to an int\n",
    "    if not is_convertible_to_int(row['CURRENT_LAND_VALUE']):\n",
    "        # Shift the row to the right by one position from 'CURRENT_LAND_VALUE' onwards\n",
    "        shifted_row = row['CURRENT_LAND_VALUE':].shift(1)\n",
    "        df.loc[index, 'CURRENT_LAND_VALUE':] = shifted_row\n",
    "\n",
    "print(df['CURRENT_LAND_VALUE'])"
   ]
  },
  {
   "cell_type": "code",
   "execution_count": null,
   "metadata": {},
   "outputs": [],
   "source": [
    "print(df.iloc[[193]]['CURRENT_LAND_VALUE'])"
   ]
  },
  {
   "cell_type": "code",
   "execution_count": 111,
   "metadata": {},
   "outputs": [
    {
     "name": "stdout",
     "output_type": "stream",
     "text": [
      "1824\n",
      "502\n",
      "  STREET_NAME PROPERTY_POSTAL_CODE  CURRENT_LAND_VALUE  \\\n",
      "0  33RD AVE W              V6M 1A6           3514000.0   \n",
      "1  13TH AVE W              V6J 2H1          15225000.0   \n",
      "\n",
      "   CURRENT_IMPROVEMENT_VALUE  TAX_ASSESSMENT_YEAR  YEAR_BUILT  \\\n",
      "0                   100000.0               2024.0      1924.0   \n",
      "1                  5405000.0               2024.0      1971.0   \n",
      "\n",
      "   BIG_IMPROVEMENT_YEAR  TAX_LEVY  REPORT_YEAR  \n",
      "0                1970.0       NaN         2024  \n",
      "1                1971.0       NaN         2024  \n"
     ]
    }
   ],
   "source": [
    "print(df.memory_usage(deep=True).sum())\n",
    "df = df.drop(columns=columns_to_drop)\n",
    "print(df.memory_usage(deep=True).sum())\n",
    "print(df.head())"
   ]
  },
  {
   "cell_type": "code",
   "execution_count": 112,
   "metadata": {},
   "outputs": [],
   "source": [
    "df.to_csv(file_path + '-cleaned.csv')"
   ]
  },
  {
   "cell_type": "code",
   "execution_count": 113,
   "metadata": {},
   "outputs": [],
   "source": [
    "file_paths = ['property-tax-report-2020-part_1.csv-cleaned.csv', 'property-tax-report-2020-part_2.csv-cleaned.csv', \n",
    "              'property-tax-report-2020-part_3.csv-cleaned.csv', 'property-tax-report-2020-part_4.csv-cleaned.csv', 'property-tax-report-2020-part_5.csv-cleaned.csv']\n",
    "\n",
    "# Read each CSV file into a DataFrame and store them in a list\n",
    "dfs = [pd.read_csv(file_path) for file_path in file_paths]\n",
    "\n",
    "# Concatenate all the DataFrames into one\n",
    "combined_df = pd.concat(dfs, ignore_index=True)\n",
    "\n",
    "combined_df.to_csv('property-tax-report-2020-cleaned.csv' )"
   ]
  },
  {
   "cell_type": "code",
   "execution_count": null,
   "metadata": {},
   "outputs": [],
   "source": []
  }
 ],
 "metadata": {
  "kernelspec": {
   "display_name": "Python 3",
   "language": "python",
   "name": "python3"
  },
  "language_info": {
   "codemirror_mode": {
    "name": "ipython",
    "version": 3
   },
   "file_extension": ".py",
   "mimetype": "text/x-python",
   "name": "python",
   "nbconvert_exporter": "python",
   "pygments_lexer": "ipython3",
   "version": "3.10.12"
  }
 },
 "nbformat": 4,
 "nbformat_minor": 2
}
