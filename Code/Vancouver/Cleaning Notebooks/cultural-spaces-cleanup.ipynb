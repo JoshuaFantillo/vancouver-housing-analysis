{
 "cells": [
  {
   "cell_type": "code",
   "execution_count": 10,
   "metadata": {},
   "outputs": [
    {
     "name": "stdout",
     "output_type": "stream",
     "text": [
      "   YEAR              TYPE POSTAL_CODE                Cordinates\n",
      "0  2017    Museum/Gallery     V6A 1Z6    49.278786, -123.098796\n",
      "1  2017  Studio/Rehearsal     V6A 1Z7    49.278453, -123.098829\n",
      "2  2017   Community Space     V6R 1K4    49.271511, -123.205213\n",
      "3  2017    Museum/Gallery     V6Z 1N9  49.2803099, -123.1228359\n",
      "4  2017   Community Space     V5Z 3B2   49.228879, -123.1169818\n",
      "Index(['YEAR', 'TYPE', 'POSTAL_CODE', 'Cordinates'], dtype='object')\n"
     ]
    }
   ],
   "source": [
    "import pandas as pd\n",
    "\n",
    "# Skip bad lines\n",
    "df = pd.read_csv('cultural-spaces.csv', on_bad_lines='skip', sep=';', engine='python')\n",
    "\n",
    "# Filter out rows where 'ACTIVE_SPACE' is 'No'\n",
    "df = df[df['ACTIVE_SPACE'] != 'No']\n",
    "\n",
    "# Drop specified columns\n",
    "df = df.drop(columns=['CULTURAL_SPACE_NAME', 'ACTIVE_SPACE', 'PRIMARY_USE', 'WEBSITE', 'LOCAL_AREA', 'OWNERSHIP', 'SQUARE_FEET', 'NUMBER_OF_SEATS', 'Geom'])\n",
    "\n",
    "# Extract the postal code from the ADDRESS column\n",
    "df['POSTAL_CODE'] = df['ADDRESS'].str[-7:]\n",
    "df['Cordinates'] = df['geo_point_2d']\n",
    "\n",
    "df = df.drop(columns=['ADDRESS','geo_point_2d'])\n",
    "\n",
    "print(df.head())\n",
    "print(df.columns)"
   ]
  },
  {
   "cell_type": "code",
   "execution_count": 11,
   "metadata": {},
   "outputs": [],
   "source": [
    "df.to_csv('cultural_spaces_cleaned.csv', index=False)"
   ]
  },
  {
   "cell_type": "code",
   "execution_count": null,
   "metadata": {},
   "outputs": [],
   "source": []
  }
 ],
 "metadata": {
  "kernelspec": {
   "display_name": "Python 3",
   "language": "python",
   "name": "python3"
  },
  "language_info": {
   "codemirror_mode": {
    "name": "ipython",
    "version": 3
   },
   "file_extension": ".py",
   "mimetype": "text/x-python",
   "name": "python",
   "nbconvert_exporter": "python",
   "pygments_lexer": "ipython3",
   "version": "3.10.12"
  }
 },
 "nbformat": 4,
 "nbformat_minor": 2
}
