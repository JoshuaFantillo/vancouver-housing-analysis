{
 "cells": [
  {
   "cell_type": "code",
   "execution_count": 1,
   "metadata": {},
   "outputs": [],
   "source": [
    "import os\n",
    "import pandas as pd\n",
    "\n",
    "file_path = 'Cleaned/property-tax-report-2006-2010-cleaned.csv'  "
   ]
  },
  {
   "cell_type": "code",
   "execution_count": 16,
   "metadata": {},
   "outputs": [
    {
     "name": "stdout",
     "output_type": "stream",
     "text": [
      "180797955\n",
      "45524348\n",
      "       PROPERTY_POSTAL_CODE  TAX_ASSESSMENT_YEAR  BIG_IMPROVEMENT_YEAR  \\\n",
      "0                   V5K 0A2                 2008                2006.0   \n",
      "1                   V5K 0A2                 2009                2006.0   \n",
      "2                   V5K 0A2                 2010                2006.0   \n",
      "3                   V5K 0A3                 2009                2008.0   \n",
      "4                   V5K 0A3                 2010                2008.0   \n",
      "...                     ...                  ...                   ...   \n",
      "379365                  Z16                 2006                1975.0   \n",
      "379366                  Z16                 2007                1975.0   \n",
      "379367                  Z16                 2008                1975.0   \n",
      "379368                  Z16                 2009                1975.0   \n",
      "379369                  Z16                 2010                1975.0   \n",
      "\n",
      "        CURRENT_LAND_VALUE  CURRENT_IMPROVEMENT_VALUE  TAX_LEVY  YEAR_BUILT  \\\n",
      "0                   565000                     299000   4434.06      2006.0   \n",
      "1                   565000                     299000   4438.03      2006.0   \n",
      "2                   545000                     352000   4711.93      2006.0   \n",
      "3                 11784000                    4768000  69944.36      2008.0   \n",
      "4                  8554000                    8704000  72721.23      2008.0   \n",
      "...                    ...                        ...       ...         ...   \n",
      "379365               82800                      61000   3504.83      1975.0   \n",
      "379366               99500                      61000   3404.94      1975.0   \n",
      "379367              104000                      61000   3059.17      1975.0   \n",
      "379368              104000                      61000   3042.76      1975.0   \n",
      "379369              115000                      61000   2956.97      1975.0   \n",
      "\n",
      "        REPORT_YEAR  \n",
      "0              2008  \n",
      "1              2009  \n",
      "2              2010  \n",
      "3              2009  \n",
      "4              2010  \n",
      "...             ...  \n",
      "379365         2006  \n",
      "379366         2007  \n",
      "379367         2008  \n",
      "379368         2009  \n",
      "379369         2010  \n",
      "\n",
      "[379370 rows x 8 columns]\n"
     ]
    }
   ],
   "source": [
    "df = pd.read_csv(file_path)\n",
    "\n",
    "# Define the aggregation rules for each column\n",
    "aggregation_rules = {\n",
    "    'CURRENT_LAND_VALUE': 'sum',\n",
    "    'CURRENT_IMPROVEMENT_VALUE': 'sum',\n",
    "    'TAX_LEVY': 'sum',\n",
    "    'YEAR_BUILT': 'first',\n",
    "    'REPORT_YEAR': 'first'\n",
    "}\n",
    "\n",
    "# Group by the specified columns and aggregate\n",
    "grouped_df = df.groupby(['PROPERTY_POSTAL_CODE', 'TAX_ASSESSMENT_YEAR', 'BIG_IMPROVEMENT_YEAR']).agg(aggregation_rules).reset_index()\n",
    "\n",
    "\n",
    "print(df.memory_usage(deep=True).sum())\n",
    "print(grouped_df.memory_usage(deep=True).sum())\n",
    "print(grouped_df)"
   ]
  },
  {
   "cell_type": "code",
   "execution_count": 17,
   "metadata": {},
   "outputs": [],
   "source": [
    "df.to_csv(file_path + '-combined.csv')"
   ]
  },
  {
   "cell_type": "code",
   "execution_count": 18,
   "metadata": {},
   "outputs": [
    {
     "name": "stdout",
     "output_type": "stream",
     "text": [
      "892028\n",
      "379370\n"
     ]
    }
   ],
   "source": [
    "print(len(df))\n",
    "print(len(grouped_df))"
   ]
  },
  {
   "cell_type": "code",
   "execution_count": 23,
   "metadata": {},
   "outputs": [
    {
     "name": "stdout",
     "output_type": "stream",
     "text": [
      "1095774\n"
     ]
    }
   ],
   "source": [
    "file_path = 'Cleaned/combined-property-tax-report-2020.csv' \n",
    "df = pd.read_csv(file_path)\n",
    "print(len(df))"
   ]
  },
  {
   "cell_type": "code",
   "execution_count": 24,
   "metadata": {},
   "outputs": [
    {
     "name": "stdout",
     "output_type": "stream",
     "text": [
      "1063910\n"
     ]
    }
   ],
   "source": [
    "# Drop rows where any of the specified columns have NaN values\n",
    "df.dropna(subset=['PROPERTY_POSTAL_CODE', 'CURRENT_LAND_VALUE', 'CURRENT_IMPROVEMENT_VALUE', 'TAX_ASSESSMENT_YEAR'], inplace=True)\n",
    "\n",
    "# Drop rows where any of the specified columns have 0 values\n",
    "df = df[(df['CURRENT_LAND_VALUE'] != 0) & (df['CURRENT_IMPROVEMENT_VALUE'] != 0) & (df['TAX_ASSESSMENT_YEAR'] != 0)]\n",
    "\n",
    "print(len(df))"
   ]
  },
  {
   "cell_type": "code",
   "execution_count": 25,
   "metadata": {},
   "outputs": [],
   "source": [
    "df.to_csv(file_path + 'removed.csv', index=False)"
   ]
  }
 ],
 "metadata": {
  "kernelspec": {
   "display_name": "Python 3",
   "language": "python",
   "name": "python3"
  },
  "language_info": {
   "codemirror_mode": {
    "name": "ipython",
    "version": 3
   },
   "file_extension": ".py",
   "mimetype": "text/x-python",
   "name": "python",
   "nbconvert_exporter": "python",
   "pygments_lexer": "ipython3",
   "version": "3.10.12"
  }
 },
 "nbformat": 4,
 "nbformat_minor": 2
}
