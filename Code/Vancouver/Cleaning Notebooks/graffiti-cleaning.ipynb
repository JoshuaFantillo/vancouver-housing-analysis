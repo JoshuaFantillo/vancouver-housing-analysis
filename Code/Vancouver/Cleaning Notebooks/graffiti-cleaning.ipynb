{
 "cells": [
  {
   "cell_type": "code",
   "execution_count": 2,
   "metadata": {},
   "outputs": [
    {
     "name": "stdout",
     "output_type": "stream",
     "text": [
      "                           Coordinates  Count\n",
      "0  49.2837296686065, -123.094257932092      1\n",
      "1  49.2615101798515, -123.054389041217      1\n",
      "2  49.2635378547015, -123.105334740525      6\n",
      "3  49.2538233806111, -123.067782922188      3\n",
      "4   49.283855246635, -123.109266691434     10\n"
     ]
    }
   ],
   "source": [
    "import pandas as pd\n",
    "\n",
    "df = pd.read_csv('Uncleaned/graffiti.csv', on_bad_lines='skip', sep=';', engine='python')\n",
    "\n",
    "new_df = pd.DataFrame({\n",
    "    'Coordinates': df['geo_point_2d'], 'Count': df['COUNT']\n",
    "})\n",
    "\n",
    "print(new_df.head())"
   ]
  },
  {
   "cell_type": "code",
   "execution_count": 3,
   "metadata": {},
   "outputs": [],
   "source": [
    "new_df.to_csv('graffiti-cleaned.csv', index=False)"
   ]
  },
  {
   "cell_type": "code",
   "execution_count": null,
   "metadata": {},
   "outputs": [],
   "source": []
  }
 ],
 "metadata": {
  "kernelspec": {
   "display_name": "Python 3",
   "language": "python",
   "name": "python3"
  },
  "language_info": {
   "codemirror_mode": {
    "name": "ipython",
    "version": 3
   },
   "file_extension": ".py",
   "mimetype": "text/x-python",
   "name": "python",
   "nbconvert_exporter": "python",
   "pygments_lexer": "ipython3",
   "version": "3.10.12"
  }
 },
 "nbformat": 4,
 "nbformat_minor": 2
}
