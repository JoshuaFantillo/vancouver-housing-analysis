{
 "cells": [
  {
   "cell_type": "markdown",
   "metadata": {},
   "source": [
    "### Link to the AIRBNB Data\n",
    "http://insideairbnb.com/get-the-data/"
   ]
  },
  {
   "cell_type": "code",
   "execution_count": 1,
   "metadata": {},
   "outputs": [],
   "source": [
    "import os\n",
    "import pandas as pd\n",
    "\n",
    "file_path = 'data/uncleaned/listings.csv'  "
   ]
  },
  {
   "cell_type": "code",
   "execution_count": 2,
   "metadata": {},
   "outputs": [
    {
     "name": "stdout",
     "output_type": "stream",
     "text": [
      "['listing_url', 'scrape_id', 'last_scraped', 'source', 'name', 'description', 'neighborhood_overview', 'picture_url', 'host_id', 'host_url', 'host_name', 'host_since', 'host_location', 'host_about', 'host_response_time', 'host_response_rate', 'host_acceptance_rate', 'host_is_superhost', 'host_thumbnail_url', 'host_picture_url', 'host_neighbourhood', 'host_listings_count', 'host_total_listings_count', 'host_verifications', 'host_has_profile_pic', 'host_identity_verified', 'neighbourhood', 'neighbourhood_cleansed', 'neighbourhood_group_cleansed', 'latitude', 'longitude', 'property_type', 'room_type', 'accommodates', 'bathrooms', 'bathrooms_text', 'bedrooms', 'beds', 'amenities', 'price', 'minimum_nights', 'maximum_nights', 'minimum_minimum_nights', 'maximum_minimum_nights', 'minimum_maximum_nights', 'maximum_maximum_nights', 'minimum_nights_avg_ntm', 'maximum_nights_avg_ntm', 'calendar_updated', 'has_availability', 'availability_30', 'availability_60', 'availability_90', 'availability_365', 'calendar_last_scraped', 'number_of_reviews', 'number_of_reviews_ltm', 'number_of_reviews_l30d', 'first_review', 'last_review', 'review_scores_rating', 'review_scores_accuracy', 'review_scores_cleanliness', 'review_scores_checkin', 'review_scores_communication', 'review_scores_location', 'review_scores_value', 'license', 'instant_bookable', 'calculated_host_listings_count', 'calculated_host_listings_count_entire_homes', 'calculated_host_listings_count_private_rooms', 'calculated_host_listings_count_shared_rooms', 'reviews_per_month', 'Unnamed: 75', 'Unnamed: 76', 'Unnamed: 77']\n"
     ]
    }
   ],
   "source": [
    "df = pd.DataFrame()\n",
    "df = pd.read_csv(file_path, header=0, index_col=0)\n",
    "print(list(df.columns))\n"
   ]
  },
  {
   "cell_type": "code",
   "execution_count": 3,
   "metadata": {},
   "outputs": [],
   "source": [
    "columns_to_drop = ['listing_url', 'scrape_id', 'last_scraped', 'source', 'name', 'description', 'neighborhood_overview', \n",
    "                   'picture_url', 'host_id', 'host_url', 'host_name', 'host_since', 'host_about', \n",
    "                   'host_response_time', 'host_response_rate', 'host_acceptance_rate', 'host_is_superhost', \n",
    "                   'host_thumbnail_url', 'host_picture_url', 'host_listings_count', \n",
    "                   'host_total_listings_count', 'host_verifications', 'host_has_profile_pic', 'host_identity_verified', \n",
    "                   'neighbourhood', 'neighbourhood_group_cleansed', 'bathrooms',  'bedrooms',\n",
    "                   'amenities', 'minimum_nights', 'maximum_nights', 'minimum_minimum_nights', \n",
    "                   'maximum_minimum_nights', 'minimum_maximum_nights', 'maximum_maximum_nights', 'minimum_nights_avg_ntm', \n",
    "                   'maximum_nights_avg_ntm', 'calendar_updated', 'has_availability', 'availability_30', 'availability_60',\n",
    "                   'availability_90', 'calendar_last_scraped', 'number_of_reviews', 'number_of_reviews_ltm', \n",
    "                   'number_of_reviews_l30d', 'first_review', 'last_review', 'review_scores_rating', 'review_scores_accuracy', \n",
    "                   'review_scores_cleanliness', 'review_scores_checkin', 'review_scores_communication', 'review_scores_location', \n",
    "                   'review_scores_value', 'license', 'instant_bookable', 'calculated_host_listings_count', \n",
    "                   'calculated_host_listings_count_entire_homes', 'calculated_host_listings_count_private_rooms', \n",
    "                   'calculated_host_listings_count_shared_rooms', 'reviews_per_month', 'Unnamed: 75', 'Unnamed: 76', 'Unnamed: 77']"
   ]
  },
  {
   "cell_type": "code",
   "execution_count": 4,
   "metadata": {},
   "outputs": [
    {
     "name": "stdout",
     "output_type": "stream",
     "text": [
      "             host_location        host_neighbourhood  \\\n",
      "id                                                     \n",
      "13188.0  Vancouver, Canada                Riley Park   \n",
      "13221.0  Vancouver, Canada                Riley Park   \n",
      "13358.0  Vancouver, Canada        Downtown Vancouver   \n",
      "13490.0  Vancouver, Canada  Kensington-Cedar Cottage   \n",
      "14267.0  Vancouver, Canada  Kensington-Cedar Cottage   \n",
      "\n",
      "           neighbourhood_cleansed          latitude          longitude  \\\n",
      "id                                                                       \n",
      "13188.0                Riley Park          49.24773         -123.10509   \n",
      "13221.0                Riley Park          49.25489         -123.09708   \n",
      "13358.0                  Downtown  49.2811737060547  -123.125930786133   \n",
      "13490.0  Kensington-Cedar Cottage          49.25622         -123.06607   \n",
      "14267.0  Kensington-Cedar Cottage          49.24922         -123.08139   \n",
      "\n",
      "              property_type        room_type accommodates bathrooms_text beds  \\\n",
      "id                                                                              \n",
      "13188.0  Entire rental unit  Entire home/apt            4         1 bath    2   \n",
      "13221.0  Entire rental unit  Entire home/apt            4         1 bath    2   \n",
      "13358.0        Entire condo  Entire home/apt            2         1 bath    1   \n",
      "13490.0  Entire rental unit  Entire home/apt            2         1 bath    1   \n",
      "14267.0         Entire home  Entire home/apt            4         1 bath    2   \n",
      "\n",
      "           price  availability_365  \n",
      "id                                  \n",
      "13188.0  $150.00                 0  \n",
      "13221.0  $120.00               363  \n",
      "13358.0  $165.00                 0  \n",
      "13490.0  $150.00                92  \n",
      "14267.0  $150.00                17  \n"
     ]
    }
   ],
   "source": [
    "df = df.drop(columns=columns_to_drop)\n",
    "print(df.head())"
   ]
  },
  {
   "cell_type": "code",
   "execution_count": 5,
   "metadata": {},
   "outputs": [
    {
     "name": "stdout",
     "output_type": "stream",
     "text": [
      "6691\n",
      "4927\n"
     ]
    }
   ],
   "source": [
    "print(len(df))\n",
    "# Gets rid of people who don't airbnb their place more than 10 times a year \n",
    "df = df[df['availability_365'] > 10]\n",
    "print(len(df))"
   ]
  },
  {
   "cell_type": "code",
   "execution_count": 6,
   "metadata": {},
   "outputs": [
    {
     "name": "stdout",
     "output_type": "stream",
     "text": [
      "['Entire rental unit' 'Entire home' 'Private room in condo'\n",
      " 'Private room in home' 'Entire guest suite' 'Entire condo' 'Entire loft'\n",
      " 'Private room in rental unit' 'Entire serviced apartment'\n",
      " 'Entire guesthouse' 'Private room in guest suite'\n",
      " 'Room in boutique hotel' 'Entire townhouse' '49.25107' 'Entire place'\n",
      " 'Tiny home' 'Entire cottage' 'Private room in loft'\n",
      " 'Private room in townhouse' 'Camper/RV' 'Floor' 'Private room in boat'\n",
      " 'Shared room in rental unit' '-123.11172' 'Private room in bungalow'\n",
      " 'Private room in guesthouse' 'Entire bungalow' 'Entire villa'\n",
      " '-123.11667' 'Private room in bed and breakfast' 'Private room in villa'\n",
      " 'Private room in tiny home' 'Room in aparthotel' '-123.12454'\n",
      " 'Entire vacation home' 'Boat' 'Shared room in villa'\n",
      " 'Private room in serviced apartment' 'Shared room in loft'\n",
      " 'Private room in casa particular' nan 'Casa particular'\n",
      " 'Shared room in home' 'Room in hotel' '-123.107266374824'\n",
      " '-123.179117536209' 'Shared room in condo' 'Cave'\n",
      " 'Private room in castle']\n"
     ]
    }
   ],
   "source": [
    "print(df['property_type'].unique())"
   ]
  },
  {
   "cell_type": "code",
   "execution_count": 7,
   "metadata": {},
   "outputs": [
    {
     "name": "stdout",
     "output_type": "stream",
     "text": [
      "['Entire rental unit' 'Private House' 'Private Room' 'Entire guest suite'\n",
      " 'Entire condo' 'Entire loft' 'Entire serviced apartment'\n",
      " 'Private Guest Suite' 'Room in boutique hotel' 'Tiny home' 'Camper/RV'\n",
      " 'Floor' 'Shared Room' 'Entire bungalow' 'Room in aparthotel'\n",
      " 'Entire vacation home' 'Boat' 'Casa particular' 'Room in hotel' 'Cave']\n"
     ]
    }
   ],
   "source": [
    "import numpy as np\n",
    "\n",
    "def simplify_property_type(value):\n",
    "    if pd.isnull(value):\n",
    "        return np.nan\n",
    "    elif 'shared room' in value.lower():\n",
    "        return 'Shared Room'\n",
    "    elif 'private room' in value.lower():\n",
    "        return 'Private Room'\n",
    "    elif any(term in value.lower() for term in ['private condo', 'private apartment', 'private loft', 'private place']):\n",
    "        return 'Private Apartment'\n",
    "    elif 'private guest suite' in value.lower() or 'guesthouse' in value.lower():\n",
    "        return 'Private Guest Suite'\n",
    "    elif any(term in value.lower() for term in ['entire home', 'entire house', 'entire villa', 'entire place', 'entire cottage', 'entire townhouse']):\n",
    "        return 'Private House'\n",
    "    elif any(char.isdigit() for char in value):  \n",
    "        return np.nan\n",
    "    else:\n",
    "        return value  \n",
    "\n",
    "# Apply the function to the 'property_type' column\n",
    "df['property_type'] = df['property_type'].apply(simplify_property_type)\n",
    "\n",
    "# Drop any rows with NaN in 'property_type' column (which includes improper accommodation names)\n",
    "df = df.dropna(subset=['property_type'])\n",
    "print(df['property_type'].unique())"
   ]
  },
  {
   "cell_type": "code",
   "execution_count": 8,
   "metadata": {},
   "outputs": [
    {
     "name": "stdout",
     "output_type": "stream",
     "text": [
      "['Private House' 'Private Room' 'Private Guest Suite' 'Private Apartment'\n",
      " 'Hotel Room' 'Camper/RV' 'Shared Room' 'Boat' 'Cave']\n"
     ]
    }
   ],
   "source": [
    "def condense_property_type(value):\n",
    "    if value in ['Entire condo', 'Entire loft', 'Entire serviced apartment', 'Entire bungalow']:\n",
    "        return 'Private Apartment'\n",
    "    elif value in ['Room in boutique hotel', 'Room in aparthotel', 'Room in hotel']:\n",
    "        return 'Hotel Room'\n",
    "    elif value in ['Entire vacation home', 'Entire rental unit', 'Private House', 'Tiny home']:\n",
    "        return 'Private House'\n",
    "    elif value in ['Private Guest Suite', 'Entire guest suite']:\n",
    "        return 'Private Guest Suite'\n",
    "    elif value in ['Floor', 'Casa particular']:\n",
    "        return None \n",
    "    else:\n",
    "        return value\n",
    "\n",
    "# Apply the function to the 'property_type' column\n",
    "df['property_type'] = df['property_type'].apply(condense_property_type)\n",
    "\n",
    "# Drop any rows with None in 'property_type' column (which includes the dropped categories)\n",
    "df = df.dropna(subset=['property_type'])\n",
    "\n",
    "print(df['property_type'].unique())"
   ]
  },
  {
   "cell_type": "code",
   "execution_count": 9,
   "metadata": {},
   "outputs": [
    {
     "name": "stdout",
     "output_type": "stream",
     "text": [
      "4918\n"
     ]
    }
   ],
   "source": [
    "print(len(df))"
   ]
  },
  {
   "cell_type": "code",
   "execution_count": 10,
   "metadata": {},
   "outputs": [
    {
     "name": "stdout",
     "output_type": "stream",
     "text": [
      "             host_location        host_neighbourhood  \\\n",
      "id                                                     \n",
      "13221.0  Vancouver, Canada                Riley Park   \n",
      "13490.0  Vancouver, Canada  Kensington-Cedar Cottage   \n",
      "14267.0  Vancouver, Canada  Kensington-Cedar Cottage   \n",
      "16611.0                NaN          Commercial Drive   \n",
      "18270.0  Vancouver, Canada            Mount Pleasant   \n",
      "\n",
      "           neighbourhood_cleansed  latitude   longitude  property_type  \\\n",
      "id                                                                       \n",
      "13221.0                Riley Park  49.25489  -123.09708  Private House   \n",
      "13490.0  Kensington-Cedar Cottage  49.25622  -123.06607  Private House   \n",
      "14267.0  Kensington-Cedar Cottage  49.24922  -123.08139  Private House   \n",
      "16611.0        Grandview-Woodland  49.26339  -123.07145  Private House   \n",
      "18270.0            Mount Pleasant  49.26557    -123.096   Private Room   \n",
      "\n",
      "               room_type accommodates bathrooms_text beds    price  \\\n",
      "id                                                                   \n",
      "13221.0  Entire home/apt            4         1 bath    2  $120.00   \n",
      "13490.0  Entire home/apt            2         1 bath    1  $150.00   \n",
      "14267.0  Entire home/apt            4         1 bath    2  $150.00   \n",
      "16611.0  Entire home/apt            6         1 bath    4  $100.00   \n",
      "18270.0     Private room            2  1 shared bath    1   $51.00   \n",
      "\n",
      "         availability_365  \n",
      "id                         \n",
      "13221.0               363  \n",
      "13490.0                92  \n",
      "14267.0                17  \n",
      "16611.0                89  \n",
      "18270.0               234  \n"
     ]
    }
   ],
   "source": [
    "print(df.head())"
   ]
  },
  {
   "cell_type": "code",
   "execution_count": 11,
   "metadata": {},
   "outputs": [
    {
     "name": "stdout",
     "output_type": "stream",
     "text": [
      "['1 bath' '1 shared bath' '1 private bath' '2 baths' '1.5 baths'\n",
      " '2.5 baths' '3 baths' '4.5 baths' '4 baths' '1.5 shared baths' '0 baths'\n",
      " '2 shared baths' '3.5 baths' '2.5 shared baths' '6 baths'\n",
      " '3 shared baths' '5 baths' '5.5 baths' 'Private half-bath' '8 baths' nan\n",
      " '6.5 baths' 'Shared half-bath' '10 baths' 'Half-bath' '7 baths']\n"
     ]
    }
   ],
   "source": [
    "print(df['bathrooms_text'].unique())"
   ]
  },
  {
   "cell_type": "code",
   "execution_count": 12,
   "metadata": {},
   "outputs": [
    {
     "name": "stdout",
     "output_type": "stream",
     "text": [
      "['1' '1 shared' '2' '1.5' '2.5' '3' '4.5' '4' '1.5 shared' '0' '2 shared'\n",
      " '3.5' '2.5 shared' '6' '3 shared' '5' '5.5' '.5' '8' '6.5' '.5 shared'\n",
      " '10' '7']\n"
     ]
    }
   ],
   "source": [
    "def condense_bath_info(bath_info):\n",
    "    if pd.isna(bath_info):\n",
    "        return None  # Will result in a NaN when applied, which we can later drop\n",
    "    # Remove any non-numeric and non-shared words, also handling half-bath as .5\n",
    "    bath_info = bath_info.replace('baths', '').replace('Private', '').replace('Half-', '.5 ').replace('half-', '.5 ').replace('private', '').replace('bath', '').strip()\n",
    "    if bath_info.startswith('Shared'):\n",
    "        bath_info = bath_info.replace('Shared ', '') + ' shared'  # Ensure '.5 shared' format\n",
    "    elif 'shared' in bath_info:\n",
    "        bath_info = bath_info.replace('shared ', '')\n",
    "     # Move 'shared' to the end\n",
    "    return bath_info.strip()\n",
    "\n",
    "# Apply the function to the 'baths' column\n",
    "df['bathrooms_text'] = df['bathrooms_text'].apply(condense_bath_info)\n",
    "\n",
    "# Drop any rows with None in 'baths' column (which includes the dropped categories)\n",
    "df = df.dropna(subset=['bathrooms_text'])\n",
    "\n",
    "\n",
    "print(df['bathrooms_text'].unique())"
   ]
  },
  {
   "cell_type": "code",
   "execution_count": 15,
   "metadata": {},
   "outputs": [
    {
     "name": "stdout",
     "output_type": "stream",
     "text": [
      "['2' '1' '4' '3' '6' '5' '7' '8' '10' '13' '9']\n",
      "['2' '1' '4' '3' '6' '5' '7' '8' '10' '13' '9']\n",
      "['Entire home/apt' 'Private room' 'Shared room']\n"
     ]
    }
   ],
   "source": [
    "print(df['beds'].unique())\n",
    "df = df.dropna(subset=['beds'])\n",
    "print(df['beds'].unique())\n",
    "print(df['room_type'].unique())"
   ]
  },
  {
   "cell_type": "code",
   "execution_count": 16,
   "metadata": {},
   "outputs": [],
   "source": [
    "df.to_csv('data/cleaned/airbnb-cleaned.csv')"
   ]
  },
  {
   "cell_type": "code",
   "execution_count": null,
   "metadata": {},
   "outputs": [],
   "source": []
  }
 ],
 "metadata": {
  "kernelspec": {
   "display_name": "Python 3",
   "language": "python",
   "name": "python3"
  },
  "language_info": {
   "codemirror_mode": {
    "name": "ipython",
    "version": 3
   },
   "file_extension": ".py",
   "mimetype": "text/x-python",
   "name": "python",
   "nbconvert_exporter": "python",
   "pygments_lexer": "ipython3",
   "version": "3.10.12"
  }
 },
 "nbformat": 4,
 "nbformat_minor": 2
}
