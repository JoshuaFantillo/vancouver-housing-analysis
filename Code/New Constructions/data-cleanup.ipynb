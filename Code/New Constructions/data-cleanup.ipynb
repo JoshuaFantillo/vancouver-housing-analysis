{
 "cells": [
  {
   "cell_type": "markdown",
   "metadata": {},
   "source": [
    "### Link where we get this data for the new constructions\n",
    "\n",
    "https://www03.cmhc-schl.gc.ca/hmip-pimh/en/TableMapChart/Table?TableId=1.1.5.6&GeographyId=2410&GeographyTypeId=3&DisplayAs=Table&GeograghyName=Vancouver#TableMapChart/2410/3/Vancouver"
   ]
  },
  {
   "cell_type": "code",
   "execution_count": 10,
   "metadata": {},
   "outputs": [],
   "source": [
    "import os\n",
    "import pandas as pd\n",
    "\n",
    "excel_files_directory = 'data/uncleaned/neighbour'  "
   ]
  },
  {
   "cell_type": "code",
   "execution_count": 11,
   "metadata": {},
   "outputs": [
    {
     "name": "stdout",
     "output_type": "stream",
     "text": [
      "14\n"
     ]
    }
   ],
   "source": [
    "excel_files = [f for f in os.listdir(excel_files_directory) if f.endswith(('csv'))]\n",
    "\n",
    "consolidated_df = pd.DataFrame()\n",
    "print(len(excel_files))"
   ]
  },
  {
   "cell_type": "code",
   "execution_count": 38,
   "metadata": {},
   "outputs": [
    {
     "name": "stdout",
     "output_type": "stream",
     "text": [
      "All CSV files have been updated.\n"
     ]
    }
   ],
   "source": [
    "file_path_directory = 'data/uncleaned/neighbour/'\n",
    "\n",
    "for file_name in os.listdir(file_path_directory):\n",
    "    if file_name.endswith('.csv'):\n",
    "        file_path = os.path.join(file_path_directory, file_name)\n",
    "        # Read the CSV file, skipping the first two rows and without headers\n",
    "        df = pd.read_csv(file_path, skiprows=2, header=None)\n",
    "        df.columns = df.iloc[0]        \n",
    "        df = df[1:]\n",
    "        df = df[:-4]\n",
    "\n",
    "        #ONLY UNCOMMENT IF NEED TO DO THIS CLEANING AGAIN\n",
    "        #df.to_csv(file_path, index=False)\n",
    "\n",
    "    \n",
    "print(\"All CSV files have been updated.\")"
   ]
  },
  {
   "cell_type": "code",
   "execution_count": 42,
   "metadata": {},
   "outputs": [],
   "source": [
    "# List of neighborhoods to create columns\n",
    "neighborhoods_list = [\n",
    "    \"Ambleside\", \"Anmore/Belcarra/Metro Vancouver North\", \"Capital Hill/Brentwood\",\n",
    "    \"Cedar Cottage\", \"Central Lonsdale\", \"Central Park\", \"Cloverdale/Fleetwood\",\n",
    "    \"Collingwood\", \"Coquitlam East\", \"Coquitlam West\", \"Deer Lake\", \"Downtown\",\n",
    "    \"Downtown Central\", \"Downtown Eastside/Strathcona\", \"Downtown North\",\n",
    "    \"Dundrave/West Vancouver Remainder\", \"Edmonds\", \"English Bay\", \"Fraser View/Killarny\",\n",
    "    \"Guildford\", \"Hastings/Sunrise/Grandview/Woodlands\", \"Kerrisdale\",\n",
    "    \"Kitsilano/Point Grey North\", \"Kitsilano/Point Grey South\", \"Ladner\", \"Langley CY\",\n",
    "    \"Langley DM\", \"Lonsdale East\", \"Lonsdale North\", \"Lonsdale West\", \"Maple Ridge\",\n",
    "    \"Marpole Remainder\", \"Marpole South\", \"Metrotown\", \"Mount Pleasant\",\n",
    "    \"New Westminster East\", \"New Westminster West\", \"Newton\", \"North Delta\",\n",
    "    \"North False Creek\", \"North Vancouver DM East\", \"North Vancouver DM West\",\n",
    "    \"Pitt Meadows\", \"Point Grey\", \"Port Coquitlam\", \"Port Moody\", \"Renfrew\",\n",
    "    \"Richmond City Centre\", \"Richmond East\", \"Richmond South\", \"Richmond West\",\n",
    "    \"Riley Park\", \"Sea Island\", \"South Cambie\", \"South False Creek\", \"South Granville\",\n",
    "    \"South Surrey\", \"Southeast Burnaby South\", \"Sunset\", \"Surrey City Centre\",\n",
    "    \"Tsawwassen\", \"University Endowment Lands\", \"University/Lougheed\", \"Uptown\",\n",
    "    \"West End/Stanley Park North\", \"West End/Stanley Park South\", \"Westside Heights\",\n",
    "    \"Westside/Kerrisdale Remainder\", \"Whalley\", \"White Rock\", \"Vancouver\"\n",
    "]\n",
    "\n"
   ]
  },
  {
   "cell_type": "code",
   "execution_count": 53,
   "metadata": {},
   "outputs": [
    {
     "name": "stdout",
     "output_type": "stream",
     "text": [
      "     Ambleside Anmore/Belcarra/Metro Vancouver North Capital Hill/Brentwood  \\\n",
      "Year                                                                          \n",
      "2010         2                                    31                    393   \n",
      "2011        10                                    16                     96   \n",
      "2012        21                                    12                    104   \n",
      "2013        63                                    11                     59   \n",
      "2014         6                                    29                    122   \n",
      "2015        42                                    10                    203   \n",
      "2016        58                                    27                   1081   \n",
      "2017         8                                    36                   1131   \n",
      "2018       117                                    11                    585   \n",
      "2019       205                                    12                   1923   \n",
      "2020       184                                    10                    485   \n",
      "2021        27                                    11                    560   \n",
      "2022        25                                   180                    455   \n",
      "2023         6                                    17                    615   \n",
      "\n",
      "     Cedar Cottage Central Lonsdale Central Park Cloverdale/Fleetwood  \\\n",
      "Year                                                                    \n",
      "2010           470               52          152                 1102   \n",
      "2011           113                2           69                  908   \n",
      "2012           420               85           21                 1031   \n",
      "2013           130              122           92                  612   \n",
      "2014           243               68           88                 1032   \n",
      "2015           262              467          473                  705   \n",
      "2016           672               93          332                  743   \n",
      "2017           153               29          235                  898   \n",
      "2018           274              144           34                  653   \n",
      "2019           433              457           16                  567   \n",
      "2020           229              225           30                  881   \n",
      "2021           298                0           32                  997   \n",
      "2022           714              365          810                  462   \n",
      "2023           320                0         1169                  909   \n",
      "\n",
      "     Collingwood Coquitlam East Coquitlam West  ...  \\\n",
      "Year                                            ...   \n",
      "2010          41            951            180  ...   \n",
      "2011         323           1284            158  ...   \n",
      "2012         179           1221            581  ...   \n",
      "2013         169            773            617  ...   \n",
      "2014          44           1323            275  ...   \n",
      "2015         786            461            510  ...   \n",
      "2016         387            814            811  ...   \n",
      "2017         111            307           1823  ...   \n",
      "2018         234            373            730  ...   \n",
      "2019         460            359           1309  ...   \n",
      "2020         110            741           1200  ...   \n",
      "2021          87            401           1950  ...   \n",
      "2022         275            593           3015  ...   \n",
      "2023         544            189           1430  ...   \n",
      "\n",
      "     University Endowment Lands University/Lougheed Uptown  \\\n",
      "Year                                                         \n",
      "2010                        240                  49      2   \n",
      "2011                        370                 326     69   \n",
      "2012                        102                 156    268   \n",
      "2013                        522                 306      4   \n",
      "2014                        211                 296      5   \n",
      "2015                        466                 239     95   \n",
      "2016                        215                 453     61   \n",
      "2017                        460                 272     22   \n",
      "2018                          7                  69     47   \n",
      "2019                        638                 409     11   \n",
      "2020                        466                1831      6   \n",
      "2021                        116                  90    321   \n",
      "2022                        358                 262      8   \n",
      "2023                        154                  53    451   \n",
      "\n",
      "     West End/Stanley Park North West End/Stanley Park South Westside Heights  \\\n",
      "Year                                                                            \n",
      "2010                           0                           0               63   \n",
      "2011                           0                           0              325   \n",
      "2012                           0                           0               85   \n",
      "2013                           0                           0              652   \n",
      "2014                           0                           0              376   \n",
      "2015                           0                           0               68   \n",
      "2016                           0                           0              678   \n",
      "2017                           0                           0              760   \n",
      "2018                           0                           0              584   \n",
      "2019                           0                           0              516   \n",
      "2020                           0                           0              120   \n",
      "2021                           0                           0             1974   \n",
      "2022                           0                           0              586   \n",
      "2023                           0                           0              607   \n",
      "\n",
      "     Westside/Kerrisdale Remainder Whalley White Rock Vancouver  \n",
      "Year                                                             \n",
      "2010                           369     216         94     15217  \n",
      "2011                           374     511         79     17867  \n",
      "2012                           388     178        315     19027  \n",
      "2013                           736     373        218     18696  \n",
      "2014                           512     299        161     19212  \n",
      "2015                           608     302        160     20863  \n",
      "2016                           531     470        178     27914  \n",
      "2017                           546     679        114     26204  \n",
      "2018                           962     610        230     23404  \n",
      "2019                           216     783        417     28141  \n",
      "2020                           188     780        393     22371  \n",
      "2021                          1064    1626        234     26013  \n",
      "2022                           874     809         51     25983  \n",
      "2023                          2419    2996        161     33244  \n",
      "\n",
      "[14 rows x 71 columns]\n"
     ]
    }
   ],
   "source": [
    "consolidated_data = pd.DataFrame(columns=neighborhoods_list)\n",
    "\n",
    "# Iterate over each file in the directory\n",
    "for file_name in os.listdir(file_path_directory):\n",
    "    if file_name.endswith('.csv'):\n",
    "        file_path = os.path.join(file_path_directory, file_name)\n",
    "        year = file_name.rstrip('.csv')[-4:]  # Extract the year from the file name\n",
    "\n",
    "        temp_df = pd.read_csv(file_path, header=None)\n",
    "\n",
    "        # Select the first column (neighborhood) and the 'All' column (assuming it's the last)\n",
    "        temp_df = temp_df.iloc[:, [0, -1]]\n",
    "\n",
    "        # Rename the columns to match the neighborhoods and 'All' data\n",
    "        temp_df.columns = ['Neighborhood', year]\n",
    "\n",
    "        # Set the neighborhood column as the index\n",
    "        temp_df.set_index('Neighborhood', inplace=True)\n",
    "\n",
    "        # Fill the 'All' values into the consolidated DataFrame\n",
    "        for neighborhood in neighborhoods_list:\n",
    "            if neighborhood in temp_df.index:\n",
    "                consolidated_data.at[year, neighborhood] = temp_df.loc[neighborhood, year]\n",
    "\n",
    "# Ensure that the index name is 'Year'\n",
    "consolidated_data.index.name = 'Year'\n",
    "consolidated_data.sort_index(ascending=True, inplace=True)\n",
    "\n",
    "\n",
    "\n",
    "print(consolidated_data)"
   ]
  },
  {
   "cell_type": "code",
   "execution_count": 57,
   "metadata": {},
   "outputs": [
    {
     "name": "stdout",
     "output_type": "stream",
     "text": [
      "Consolidated data has been saved to data/cleaned/YearlyConstructionNeighbours.csv\n"
     ]
    }
   ],
   "source": [
    "output_csv_path = 'data/cleaned/YearlyConstructionNeighbours.csv'\n",
    "consolidated_data.to_csv(output_csv_path)\n",
    "\n",
    "print(f\"Consolidated data has been saved to {output_csv_path}\")"
   ]
  },
  {
   "cell_type": "code",
   "execution_count": null,
   "metadata": {},
   "outputs": [],
   "source": []
  }
 ],
 "metadata": {
  "kernelspec": {
   "display_name": "Python 3",
   "language": "python",
   "name": "python3"
  },
  "language_info": {
   "codemirror_mode": {
    "name": "ipython",
    "version": 3
   },
   "file_extension": ".py",
   "mimetype": "text/x-python",
   "name": "python",
   "nbconvert_exporter": "python",
   "pygments_lexer": "ipython3",
   "version": "3.10.12"
  }
 },
 "nbformat": 4,
 "nbformat_minor": 2
}
