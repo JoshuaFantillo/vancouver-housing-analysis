{
 "cells": [
  {
   "cell_type": "markdown",
   "id": "e0aa4c2a-a5c2-4d1f-a3d5-1dec803008b9",
   "metadata": {},
   "source": [
    "CLEANING Keep only needed cloumns"
   ]
  },
  {
   "cell_type": "code",
   "execution_count": null,
   "id": "e56afe66-6c76-4158-826b-675889e82111",
   "metadata": {},
   "outputs": [],
   "source": [
    "df_all = {}\n",
    "import pandas as pd\n",
    "for year in range(2003,2020):\n",
    "    print(year)\n",
    "    df = pd.read_csv('propertydetaillisting' + str(year) + '.csv')\n",
    "    df_less = df[['POSTAL_CODE', 'PID','GROSS_LAND', 'GROSS_ASSESSMENT', 'Latitude', 'Longitude']]\n",
    "    df_less.to_csv('cleaned_propertytax' + str(year) + '.csv')\n",
    "    df_all[year] = df_less "
   ]
  },
  {
   "cell_type": "code",
   "execution_count": 6,
   "id": "ad07a5cb-6aaf-4f29-897b-99635e0a396e",
   "metadata": {},
   "outputs": [
    {
     "name": "stderr",
     "output_type": "stream",
     "text": [
      "C:\\Users\\nicke\\AppData\\Local\\Temp\\ipykernel_147388\\1810702376.py:3: DtypeWarning: Columns (0) have mixed types. Specify dtype option on import or set low_memory=False.\n",
      "  df = pd.read_csv('propertydetaillisting' + str(year) + '.csv')\n"
     ]
    }
   ],
   "source": [
    "#2019 has different column name\n",
    "year = 2019\n",
    "df = pd.read_csv('propertydetaillisting' + str(year) + '.csv')\n",
    "df_less = df[['POSTAL_CODE', 'PID','GROSS_LAND', 'GROSS_ASSESSMENT', 'LATITUDE', 'LONGITUDE']]\n",
    "df_less.to_csv('cleaned_propertytax' + str(year) + '.csv')\n",
    "df_all[year] = df_less "
   ]
  },
  {
   "cell_type": "code",
   "execution_count": 7,
   "id": "76a71be9-097d-4b7f-8186-492805c11e1f",
   "metadata": {},
   "outputs": [
    {
     "name": "stdout",
     "output_type": "stream",
     "text": [
      "2020\n"
     ]
    },
    {
     "name": "stderr",
     "output_type": "stream",
     "text": [
      "C:\\Users\\nicke\\AppData\\Local\\Temp\\ipykernel_147388\\2500203749.py:4: DtypeWarning: Columns (1,19) have mixed types. Specify dtype option on import or set low_memory=False.\n",
      "  df = pd.read_csv('property_detail_listing_' + str(year) + '.csv')\n"
     ]
    },
    {
     "name": "stdout",
     "output_type": "stream",
     "text": [
      "2021\n"
     ]
    },
    {
     "name": "stderr",
     "output_type": "stream",
     "text": [
      "C:\\Users\\nicke\\AppData\\Local\\Temp\\ipykernel_147388\\2500203749.py:4: DtypeWarning: Columns (0) have mixed types. Specify dtype option on import or set low_memory=False.\n",
      "  df = pd.read_csv('property_detail_listing_' + str(year) + '.csv')\n"
     ]
    },
    {
     "name": "stdout",
     "output_type": "stream",
     "text": [
      "2022\n",
      "2023\n"
     ]
    }
   ],
   "source": [
    "#2020-2023 have different file name\n",
    "for year in range(2020,2022):\n",
    "    print(year)\n",
    "    df = pd.read_csv('property_detail_listing_' + str(year) + '.csv')\n",
    "    df_less = df[['POSTAL_CODE', 'PID','GROSS_LAND', 'GROSS_ASSESSMENT', 'LATITUDE', 'LONGITUDE']]\n",
    "    df_less.to_csv('cleaned_propertytax' + str(year) + '.csv')\n",
    "    df_all[year] = df_less \n",
    "for year in range(2022,2024):\n",
    "    print(year)\n",
    "    df = pd.read_csv('property_detail_list_' + str(year) + '.csv')\n",
    "    df_less = df[['POSTAL_CODE', 'PID','GROSS_LAND', 'GROSS_ASSESSMENT', 'LATITUDE', 'LONGITUDE']]\n",
    "    df_less.to_csv('cleaned_propertytax' + str(year) + '.csv')\n",
    "    df_all[year] = df_less "
   ]
  },
  {
   "cell_type": "code",
   "execution_count": null,
   "id": "d878be0d-b405-4aa5-916c-6492cf3a5acd",
   "metadata": {},
   "outputs": [],
   "source": [
    "AGGREGATE all years to same row"
   ]
  },
  {
   "cell_type": "code",
   "execution_count": 70,
   "id": "5251c26a-435e-43ce-8e08-47045ffdd243",
   "metadata": {},
   "outputs": [
    {
     "name": "stdout",
     "output_type": "stream",
     "text": [
      "(176896, 6)\n",
      "(164239, 5)\n",
      "(166248, 8)\n",
      "(166204, 5)\n",
      "(166248, 10)\n",
      "(171318, 5)\n",
      "(166248, 12)\n",
      "(176896, 5)\n",
      "(166248, 14)\n"
     ]
    },
    {
     "data": {
      "text/html": [
       "<div>\n",
       "<style scoped>\n",
       "    .dataframe tbody tr th:only-of-type {\n",
       "        vertical-align: middle;\n",
       "    }\n",
       "\n",
       "    .dataframe tbody tr th {\n",
       "        vertical-align: top;\n",
       "    }\n",
       "\n",
       "    .dataframe thead th {\n",
       "        text-align: right;\n",
       "    }\n",
       "</style>\n",
       "<table border=\"1\" class=\"dataframe\">\n",
       "  <thead>\n",
       "    <tr style=\"text-align: right;\">\n",
       "      <th></th>\n",
       "      <th>POSTAL_CODE</th>\n",
       "      <th>PID</th>\n",
       "      <th>GROSS_LAND</th>\n",
       "      <th>GROSS_ASSESSMENT</th>\n",
       "      <th>LATITUDE</th>\n",
       "      <th>LONGITUDE</th>\n",
       "      <th>GROSS_LAND2020</th>\n",
       "      <th>GROSS_ASSESSMENT2020</th>\n",
       "      <th>GROSS_LAND2021</th>\n",
       "      <th>GROSS_ASSESSMENT2021</th>\n",
       "      <th>GROSS_LAND2022</th>\n",
       "      <th>GROSS_ASSESSMENT2022</th>\n",
       "      <th>GROSS_LAND2023</th>\n",
       "      <th>GROSS_ASSESSMENT2023</th>\n",
       "    </tr>\n",
       "  </thead>\n",
       "  <tbody>\n",
       "    <tr>\n",
       "      <th>0</th>\n",
       "      <td>V3X 0E5</td>\n",
       "      <td>028-625-871</td>\n",
       "      <td>1100000</td>\n",
       "      <td>1732000</td>\n",
       "      <td>49.114152</td>\n",
       "      <td>-122.828541</td>\n",
       "      <td>687000.0</td>\n",
       "      <td>1123000.0</td>\n",
       "      <td>708000.0</td>\n",
       "      <td>1190000.0</td>\n",
       "      <td>981000.0</td>\n",
       "      <td>1539000.0</td>\n",
       "      <td>1100000</td>\n",
       "      <td>1732000</td>\n",
       "    </tr>\n",
       "    <tr>\n",
       "      <th>1</th>\n",
       "      <td>V3T 5X9</td>\n",
       "      <td>026-178-346</td>\n",
       "      <td>314000</td>\n",
       "      <td>451000</td>\n",
       "      <td>49.199837</td>\n",
       "      <td>-122.848584</td>\n",
       "      <td>188000.0</td>\n",
       "      <td>306000.0</td>\n",
       "      <td>205000.0</td>\n",
       "      <td>324000.0</td>\n",
       "      <td>243000.0</td>\n",
       "      <td>384000.0</td>\n",
       "      <td>314000</td>\n",
       "      <td>451000</td>\n",
       "    </tr>\n",
       "    <tr>\n",
       "      <th>2</th>\n",
       "      <td>V3R 6T9</td>\n",
       "      <td>001-436-627</td>\n",
       "      <td>902000</td>\n",
       "      <td>936500</td>\n",
       "      <td>49.192477</td>\n",
       "      <td>-122.817171</td>\n",
       "      <td>486000.0</td>\n",
       "      <td>524700.0</td>\n",
       "      <td>531000.0</td>\n",
       "      <td>575200.0</td>\n",
       "      <td>759000.0</td>\n",
       "      <td>812100.0</td>\n",
       "      <td>902000</td>\n",
       "      <td>936500</td>\n",
       "    </tr>\n",
       "    <tr>\n",
       "      <th>3</th>\n",
       "      <td>V3T 4M4</td>\n",
       "      <td>001-821-288</td>\n",
       "      <td>626000</td>\n",
       "      <td>665500</td>\n",
       "      <td>NaN</td>\n",
       "      <td>NaN</td>\n",
       "      <td>462000.0</td>\n",
       "      <td>504000.0</td>\n",
       "      <td>476000.0</td>\n",
       "      <td>515400.0</td>\n",
       "      <td>560000.0</td>\n",
       "      <td>606300.0</td>\n",
       "      <td>626000</td>\n",
       "      <td>665500</td>\n",
       "    </tr>\n",
       "    <tr>\n",
       "      <th>4</th>\n",
       "      <td>V4A 1T2</td>\n",
       "      <td>004-878-027</td>\n",
       "      <td>1521000</td>\n",
       "      <td>1543000</td>\n",
       "      <td>49.032181</td>\n",
       "      <td>-122.793940</td>\n",
       "      <td>966000.0</td>\n",
       "      <td>983200.0</td>\n",
       "      <td>931000.0</td>\n",
       "      <td>949000.0</td>\n",
       "      <td>1257000.0</td>\n",
       "      <td>1279400.0</td>\n",
       "      <td>1521000</td>\n",
       "      <td>1543000</td>\n",
       "    </tr>\n",
       "  </tbody>\n",
       "</table>\n",
       "</div>"
      ],
      "text/plain": [
       "  POSTAL_CODE          PID  GROSS_LAND  GROSS_ASSESSMENT   LATITUDE  \\\n",
       "0     V3X 0E5  028-625-871     1100000           1732000  49.114152   \n",
       "1     V3T 5X9  026-178-346      314000            451000  49.199837   \n",
       "2     V3R 6T9  001-436-627      902000            936500  49.192477   \n",
       "3     V3T 4M4  001-821-288      626000            665500        NaN   \n",
       "4     V4A 1T2  004-878-027     1521000           1543000  49.032181   \n",
       "\n",
       "    LONGITUDE  GROSS_LAND2020  GROSS_ASSESSMENT2020  GROSS_LAND2021  \\\n",
       "0 -122.828541        687000.0             1123000.0        708000.0   \n",
       "1 -122.848584        188000.0              306000.0        205000.0   \n",
       "2 -122.817171        486000.0              524700.0        531000.0   \n",
       "3         NaN        462000.0              504000.0        476000.0   \n",
       "4 -122.793940        966000.0              983200.0        931000.0   \n",
       "\n",
       "   GROSS_ASSESSMENT2021  GROSS_LAND2022  GROSS_ASSESSMENT2022  GROSS_LAND2023  \\\n",
       "0             1190000.0        981000.0             1539000.0         1100000   \n",
       "1              324000.0        243000.0              384000.0          314000   \n",
       "2              575200.0        759000.0              812100.0          902000   \n",
       "3              515400.0        560000.0              606300.0          626000   \n",
       "4              949000.0       1257000.0             1279400.0         1521000   \n",
       "\n",
       "   GROSS_ASSESSMENT2023  \n",
       "0               1732000  \n",
       "1                451000  \n",
       "2                936500  \n",
       "3                665500  \n",
       "4               1543000  "
      ]
     },
     "execution_count": 70,
     "metadata": {},
     "output_type": "execute_result"
    }
   ],
   "source": [
    "df_agg = df_all[2023]\n",
    "for year in range(2020,2024):\n",
    "    print(df_agg.shape)\n",
    "    df_to_join = df_all[year].set_index('PID')\n",
    "    print(df_to_join.shape)\n",
    "    df_agg = df_agg.join(df_to_join[['GROSS_LAND', 'GROSS_ASSESSMENT']], on='PID', how = 'left', rsuffix=str(year))\n",
    "    df_agg.dropna(subset=['PID'], inplace=True)\n",
    "    df_agg.drop_duplicates(subset=['PID'], inplace=True)\n",
    "print(df_agg.shape)\n",
    "pd.set_option('display.max_rows', None)\n",
    "df_agg.head()\n",
    "#df_to_join[['GROSS_LAND', 'GROSS_ASSESSMENT']].head()"
   ]
  },
  {
   "cell_type": "code",
   "execution_count": 74,
   "id": "67535cc8-2672-4fff-b43e-095c5eed0d0f",
   "metadata": {},
   "outputs": [],
   "source": [
    "df_agg.drop(columns=['GROSS_LAND','GROSS_ASSESSMENT'], inplace=True)\n",
    "df_agg.to_csv('cleaned_propertytax_aggreagted.csv')"
   ]
  },
  {
   "cell_type": "code",
   "execution_count": null,
   "id": "04f28d0c-6a36-4007-9e6b-21944ef14428",
   "metadata": {},
   "outputs": [],
   "source": []
  }
 ],
 "metadata": {
  "kernelspec": {
   "display_name": "Python 3 (ipykernel)",
   "language": "python",
   "name": "python3"
  },
  "language_info": {
   "codemirror_mode": {
    "name": "ipython",
    "version": 3
   },
   "file_extension": ".py",
   "mimetype": "text/x-python",
   "name": "python",
   "nbconvert_exporter": "python",
   "pygments_lexer": "ipython3",
   "version": "3.11.7"
  }
 },
 "nbformat": 4,
 "nbformat_minor": 5
}
