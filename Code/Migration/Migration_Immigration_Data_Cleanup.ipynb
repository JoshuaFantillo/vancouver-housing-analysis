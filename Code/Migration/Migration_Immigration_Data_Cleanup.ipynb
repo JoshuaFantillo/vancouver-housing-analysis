{
 "cells": [
  {
   "cell_type": "markdown",
   "metadata": {},
   "source": [
    "# Notebook Details  \n",
    "### This notebook takes the data from the below csv files and cleans it to get the migration from specific provinces into BC and to get other immigration details into BC, The Fraser Valley, and Greater Vancouver.\n",
    "### Read Data:  \n",
    "-'Data/interprovincial_migration_annual.csv'  \n",
    "-'Data/regional_district_migration.csv'  \n",
    "  \n",
    "\n",
    "### Output Data:  \n",
    "-'Data/yearly_provincial_migration_into_bc.csv'  \n",
    "-'Data/yearly_provincial_migration_percentage_into_bc.csv'  \n",
    "-'Data/greater_vancouver_immigration.csv'"
   ]
  },
  {
   "cell_type": "code",
   "execution_count": 1,
   "metadata": {},
   "outputs": [
    {
     "name": "stdout",
     "output_type": "stream",
     "text": [
      "   Year Origin  N.L.  P.E.I.  N.S.  N.B.  Que.  Ont.  Man.  Sask.  Alta.  \\\n",
      "0  1971  Alta.   355     143   828   456  1054  6780  2574   4292      0   \n",
      "1  1971   B.C.   284      73   900   565  1285  7781  2512   2274  11301   \n",
      "2  1971   Man.   197     182   335   423  1126  7082     0   2953   4406   \n",
      "3  1971   N.B.   830     473  2350     0  2124  5242   230    119    585   \n",
      "4  1971   N.L.     0      89   953   678   650  4150    93     46    195   \n",
      "\n",
      "    B.C.  Y.T.  N.W.T.  Nvt.  Total  \n",
      "0  17717   607     952     0  35758  \n",
      "1      0   460     724     0  28159  \n",
      "2   5008    85     133     0  21930  \n",
      "3    787    12      19     0  12771  \n",
      "4    295     9      13     0   7171  \n"
     ]
    }
   ],
   "source": [
    "import pandas as pd\n",
    "\n",
    "housing_prices_path = 'Data/uncleaned/interprovincial_migration_annual.csv'\n",
    "df = pd.read_csv(housing_prices_path)\n",
    "\n",
    "print(df.head(5))"
   ]
  },
  {
   "cell_type": "code",
   "execution_count": 6,
   "metadata": {},
   "outputs": [
    {
     "name": "stdout",
     "output_type": "stream",
     "text": [
      "   Year  Total_migration_into_BC  Total_migration_out_of_BC  N.L.  P.E.I.  \\\n",
      "0  1971                    48452                      28159   295     103   \n",
      "1  1972                    72338                      47411   505     133   \n",
      "2  1973                    87092                      56555   785     217   \n",
      "3  1974                    84173                      61518   847     230   \n",
      "4  1975                    61136                      64000   617     177   \n",
      "\n",
      "   N.S.  N.B.  Que.   Ont.  Man.  Sask.  Alta.  Y.T.  N.W.T.  Nvt.  \n",
      "0  1702   787  3196  12195  5008   6217  17717   481     751     0  \n",
      "1  1890  1192  5146  17281  7901   9076  26944   885    1385     0  \n",
      "2  2120  1453  4989  23499  8643   9883  32979   985    1539     0  \n",
      "3  2882  1460  5484  24169  8650   8486  29382  1007    1576     0  \n",
      "4  1926   976  4077  18201  6287   4982  22027   727    1139     0  \n"
     ]
    }
   ],
   "source": [
    "years = df['Year'].unique()\n",
    "provinces = ['N.L.', 'P.E.I.', 'N.S.', 'N.B.', 'Que.', 'Ont.', 'Man.', 'Sask.', 'Alta.', 'Y.T.', 'N.W.T.', 'Nvt.']\n",
    "columns = ['Year', 'Total_migration_into_BC', 'Total_migration_out_of_BC'] + provinces\n",
    "aggregated_data = []\n",
    "\n",
    "for year in years:\n",
    "    # Filter data for the year\n",
    "    year_data = df[df['Year'] == year]\n",
    "    \n",
    "    # Calculate the total migration into BC (sum of people moving from each province to BC)\n",
    "    migration_into_bc = year_data.loc[year_data['Origin'] != 'B.C.', 'B.C.'].sum()\n",
    "    \n",
    "    # Calculate the total migration out of BC (sum of BC row but for other provinces)\n",
    "    migration_out_of_bc = year_data.loc[year_data['Origin'] == 'B.C.', provinces].sum()\n",
    "    \n",
    "    # Create a new row for the aggregated data\n",
    "    new_row = {\n",
    "        'Year': year,\n",
    "        'Total_migration_into_BC': migration_into_bc,\n",
    "        'Total_migration_out_of_BC': migration_out_of_bc.sum()\n",
    "    }\n",
    "    \n",
    "    # Add migration details for each province into BC\n",
    "    for province in provinces:\n",
    "        new_row[province] = year_data.loc[year_data['Origin'] == province, 'B.C.'].sum()\n",
    "    \n",
    "    aggregated_data.append(new_row)\n",
    "\n",
    "# Convert the list of dictionaries to a DataFrame\n",
    "aggregated_df = pd.DataFrame(aggregated_data, columns=columns)\n",
    "print(aggregated_df.head())\n",
    "\n",
    "aggregated_df.to_csv('Data/cleaned/yearly_provincial_migration_into_bc.csv', index=False)\n"
   ]
  },
  {
   "cell_type": "code",
   "execution_count": 7,
   "metadata": {},
   "outputs": [
    {
     "name": "stdout",
     "output_type": "stream",
     "text": [
      "   Year  Total_migration_into_BC  Total_migration_out_of_BC      N.L.  \\\n",
      "0  1971                    48452                      28159  0.608850   \n",
      "1  1972                    72338                      47411  0.698112   \n",
      "2  1973                    87092                      56555  0.901346   \n",
      "3  1974                    84173                      61518  1.006261   \n",
      "4  1975                    61136                      64000  1.009225   \n",
      "\n",
      "     P.E.I.      N.S.      N.B.      Que.       Ont.       Man.      Sask.  \\\n",
      "0  0.212582  3.512755  1.624288  6.596219  25.169240  10.336003  12.831256   \n",
      "1  0.183859  2.612735  1.647820  7.113827  23.889242  10.922337  12.546656   \n",
      "2  0.249162  2.434208  1.668351  5.728425  26.981812   9.923988  11.347770   \n",
      "3  0.273247  3.423901  1.734523  6.515153  28.713483  10.276454  10.081618   \n",
      "4  0.289518  3.150353  1.596441  6.668739  29.771329  10.283630   8.149045   \n",
      "\n",
      "       Alta.      Y.T.    N.W.T.  Nvt.  \n",
      "0  36.566086  0.992735  1.549988   0.0  \n",
      "1  37.247367  1.223423  1.914623   0.0  \n",
      "2  37.866853  1.130988  1.767097   0.0  \n",
      "3  34.906680  1.196346  1.872334   0.0  \n",
      "4  36.029508  1.189152  1.863059   0.0  \n"
     ]
    }
   ],
   "source": [
    "province_columns = ['N.L.', 'P.E.I.', 'N.S.', 'N.B.', 'Que.', 'Ont.', 'Man.', 'Sask.', 'Alta.', 'Y.T.', 'N.W.T.', 'Nvt.']\n",
    "\n",
    "# Get percentage per year of migration from each province\n",
    "for col in province_columns:\n",
    "    aggregated_df[col] = (aggregated_df[col] / aggregated_df['Total_migration_into_BC']) * 100\n",
    "\n",
    "\n",
    "print(aggregated_df.head())\n",
    "\n",
    "aggregated_df.to_csv('Data/cleaned/yearly_provincial_migration_percentage_into_bc.csv', index=False)\n"
   ]
  },
  {
   "cell_type": "markdown",
   "metadata": {},
   "source": [
    "https://catalogue.data.gov.bc.ca/dataset/migration-by-development-region-and-regional-district   \n",
    "Migration by Development Region and Regional District  \n",
    "https://catalogue.data.gov.bc.ca/dataset/migration-by-development-region-and-regional-district/resource/726e54aa-f403-42d2-90b1-72c9a8c8e84f   \n",
    "regional_district_migration "
   ]
  },
  {
   "cell_type": "code",
   "execution_count": 8,
   "metadata": {},
   "outputs": [
    {
     "name": "stdout",
     "output_type": "stream",
     "text": [
      "   Census Year             Region  Immigrants  Emigrants  \\\n",
      "0    2001-2002   British Columbia       38024      11958   \n",
      "5    2001-2002      Fraser Valley        1239        576   \n",
      "6    2001-2002  Greater Vancouver       34458       7380   \n",
      "30   2002-2003   British Columbia       31924      12837   \n",
      "35   2002-2003      Fraser Valley        1126        486   \n",
      "\n",
      "    Net Temporary Emigrants  Net Non-permanent Residents  Net International  \\\n",
      "0                      4925                         8155              33197   \n",
      "5                       235                          223                822   \n",
      "6                      3039                         6403              32838   \n",
      "30                     4923                         6345              25375   \n",
      "35                      188                          176                952   \n",
      "\n",
      "    Net Interprovincial  Net Intraprovincial  Net Total Migration  \n",
      "0                 -8556                    0                24641  \n",
      "5                  -484                 1089                 1427  \n",
      "6                 -3362                -3545                25931  \n",
      "30                -1037                    0                24338  \n",
      "35                 -210                 1014                 1756  \n"
     ]
    }
   ],
   "source": [
    "imigration_info = 'Data/uncleaned/regional_district_migration.csv'\n",
    "imi_df = pd.read_csv(imigration_info)\n",
    "# Only get Immigration stats for British Columbia, Fraser Valley, Greater Vancouver\n",
    "imi_df = imi_df[imi_df['Region'].isin(['British Columbia', 'Fraser Valley', 'Greater Vancouver'])]\n",
    "# Drop un-needed rows\n",
    "imi_df = imi_df.drop(columns=['SGC', 'Returning Emigrants', 'Interprovincial In', 'Interprovincial Out', 'Intraprovincial In', 'Intraprovincial Out'])\n",
    "print(imi_df.head())\n",
    "\n",
    "imi_df.to_csv('Data/cleaned/greater_vancouver_immigration.csv', index=False)\n"
   ]
  },
  {
   "cell_type": "code",
   "execution_count": null,
   "metadata": {},
   "outputs": [],
   "source": []
  }
 ],
 "metadata": {
  "kernelspec": {
   "display_name": "base",
   "language": "python",
   "name": "python3"
  },
  "language_info": {
   "codemirror_mode": {
    "name": "ipython",
    "version": 3
   },
   "file_extension": ".py",
   "mimetype": "text/x-python",
   "name": "python",
   "nbconvert_exporter": "python",
   "pygments_lexer": "ipython3",
   "version": "3.12.2"
  }
 },
 "nbformat": 4,
 "nbformat_minor": 2
}
