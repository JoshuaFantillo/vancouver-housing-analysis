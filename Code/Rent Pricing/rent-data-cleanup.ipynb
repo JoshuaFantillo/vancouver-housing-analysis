{
 "cells": [
  {
   "cell_type": "code",
   "execution_count": 1,
   "metadata": {},
   "outputs": [],
   "source": [
    "import os\n",
    "import pandas as pd\n",
    "\n",
    "file_path_directory = 'data/uncleaned/'  "
   ]
  },
  {
   "cell_type": "code",
   "execution_count": 2,
   "metadata": {},
   "outputs": [
    {
     "name": "stdout",
     "output_type": "stream",
     "text": [
      "14\n"
     ]
    }
   ],
   "source": [
    "excel_files = [f for f in os.listdir(file_path_directory) if f.endswith(('csv'))]\n",
    "\n",
    "consolidated_df = pd.DataFrame()\n",
    "print(len(excel_files))"
   ]
  },
  {
   "cell_type": "code",
   "execution_count": 17,
   "metadata": {},
   "outputs": [
    {
     "name": "stdout",
     "output_type": "stream",
     "text": [
      "All CSV files have been updated.\n"
     ]
    }
   ],
   "source": [
    "for file_name in os.listdir(file_path_directory):\n",
    "    if file_name.endswith('.csv'):\n",
    "        file_path = os.path.join(file_path_directory, file_name)\n",
    "        \n",
    "        df = pd.read_csv(file_path, header=0, index_col=0)\n",
    "        \n",
    "        unnamed_cols = df.filter(like='Unnamed').columns\n",
    "        df = df.drop(columns=unnamed_cols)\n",
    "        \n",
    "        if 'Total' in df.columns:\n",
    "            df = df.drop(columns=['Total'])\n",
    "        \n",
    "        # Drop the last four rows\n",
    "        df = df[:-4]\n",
    "        \n",
    "        # Save the cleaned DataFrame back to the CSV, uncomment if needed\n",
    "        #df.to_csv(file_path, index=True)\n",
    "\n",
    "print(\"All CSV files have been updated.\")"
   ]
  },
  {
   "cell_type": "code",
   "execution_count": 14,
   "metadata": {},
   "outputs": [
    {
     "name": "stdout",
     "output_type": "stream",
     "text": [
      "Category CSV files have been created.\n"
     ]
    }
   ],
   "source": [
    "# Category names corresponding to columns in the original CSV files\n",
    "categories = ['Bachelor', '1 Bedroom', '2 Bedroom', '3 Bedroom +']\n",
    "\n",
    "# Data structure to hold the data for each category\n",
    "data_by_category = {category: pd.DataFrame() for category in categories}\n",
    "\n",
    "# Iterate over each file in the directory\n",
    "for file_name in os.listdir(file_path_directory):\n",
    "    if file_name.endswith('.csv'):\n",
    "        # Extract the year from the file name\n",
    "        year = file_name.split('NeighbourhoodRent')[1].split('.')[0]\n",
    "        \n",
    "        file_path = os.path.join(file_path_directory, file_name)\n",
    "        df = pd.read_csv(file_path)  # Adjust the skiprows if needed\n",
    "        \n",
    "        # Rename first column Neighbourhood\n",
    "        df.rename(columns={df.columns[0]: 'Neighbourhood'}, inplace=True)\n",
    "        \n",
    "        # Iterate over the categories\n",
    "        for category in categories:\n",
    "            if category in df.columns:\n",
    "                # Create a series with 'Neighbourhood' as index and the category as the data\n",
    "                series = df.set_index('Neighbourhood')[category]\n",
    "                # Insert the series into the corresponding category DataFrame\n",
    "                data_by_category[category][year] = series\n",
    "\n",
    "# Save each category DataFrame to a separate CSV file\n",
    "for category, data in data_by_category.items():\n",
    "    # Sort the DataFrame by years (columns)\n",
    "    sorted_columns = sorted(data.columns, key=lambda x: int(x))\n",
    "    data = data[sorted_columns]\n",
    "    output_csv_path = os.path.join('data/cleaned/', f'{category}_yearly_data.csv')\n",
    "    #data.to_csv(output_csv_path, index_label='Neighbourhood')\n",
    "\n",
    "print(\"Category CSV files have been created.\")"
   ]
  },
  {
   "cell_type": "code",
   "execution_count": null,
   "metadata": {},
   "outputs": [],
   "source": []
  }
 ],
 "metadata": {
  "kernelspec": {
   "display_name": "Python 3",
   "language": "python",
   "name": "python3"
  },
  "language_info": {
   "codemirror_mode": {
    "name": "ipython",
    "version": 3
   },
   "file_extension": ".py",
   "mimetype": "text/x-python",
   "name": "python",
   "nbconvert_exporter": "python",
   "pygments_lexer": "ipython3",
   "version": "3.10.12"
  }
 },
 "nbformat": 4,
 "nbformat_minor": 2
}
